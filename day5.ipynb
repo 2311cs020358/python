{
 "cells": [
  {
   "cell_type": "code",
   "execution_count": 57,
   "id": "d7b92f4b-74b5-499a-9092-682262064fa8",
   "metadata": {},
   "outputs": [
    {
     "ename": "IndentationError",
     "evalue": "unindent does not match any outer indentation level (<string>, line 9)",
     "output_type": "error",
     "traceback": [
      "\u001b[1;36m  File \u001b[1;32m<string>:9\u001b[1;36m\u001b[0m\n\u001b[1;33m    .\u001b[0m\n\u001b[1;37m     ^\u001b[0m\n\u001b[1;31mIndentationError\u001b[0m\u001b[1;31m:\u001b[0m unindent does not match any outer indentation level\n"
     ]
    }
   ],
   "source": [
    "if condition1:\n",
    "   task1 block of code\n",
    "elif condition2:\n",
    "    task2 block of code\n",
    "elif condition3:\n",
    "    task3 block of code\n",
    "else:\n",
    "     task4 block of code\n",
    "    .\n",
    "    .\n",
    "    .\n",
    "elif condition n:\n",
    "     task n\n",
    "else:\n",
    "     task4 block of code\n",
    "\n",
    "    "
   ]
  },
  {
   "cell_type": "markdown",
   "id": "de262e5b-e8f1-4990-8421-cd3d0c9a2f62",
   "metadata": {},
   "source": []
  },
  {
   "cell_type": "code",
   "execution_count": 3,
   "id": "41b4cf80-fdac-4b0f-adfd-e6820f72f9ce",
   "metadata": {},
   "outputs": [
    {
     "ename": "SyntaxError",
     "evalue": "invalid syntax (1915522182.py, line 2)",
     "output_type": "error",
     "traceback": [
      "\u001b[1;36m  Cell \u001b[1;32mIn[3], line 2\u001b[1;36m\u001b[0m\n\u001b[1;33m    task1 block of code\u001b[0m\n\u001b[1;37m          ^\u001b[0m\n\u001b[1;31mSyntaxError\u001b[0m\u001b[1;31m:\u001b[0m invalid syntax\n"
     ]
    }
   ],
   "source": [
    "if condition1:\n",
    "    task1 block of code\n",
    "elif condition2:\n",
    "    task2 block of code\n",
    "elif condition3:\n",
    "    task3 block of code\n",
    "    .\n",
    "    .\n",
    "    .\n",
    "elif condition n:\n",
    "    task n\n",
    "else:\n",
    "    task4 block of code"
   ]
  },
  {
   "cell_type": "code",
   "execution_count": 5,
   "id": "01dfc305-0cb8-4e24-aa6f-0aa865c6883b",
   "metadata": {},
   "outputs": [
    {
     "ename": "SyntaxError",
     "evalue": "invalid syntax (1915522182.py, line 2)",
     "output_type": "error",
     "traceback": [
      "\u001b[1;36m  Cell \u001b[1;32mIn[5], line 2\u001b[1;36m\u001b[0m\n\u001b[1;33m    task1 block of code\u001b[0m\n\u001b[1;37m          ^\u001b[0m\n\u001b[1;31mSyntaxError\u001b[0m\u001b[1;31m:\u001b[0m invalid syntax\n"
     ]
    }
   ],
   "source": [
    "if condition1:\n",
    "    task1 block of code\n",
    "elif condition2:\n",
    "    task2 block of code\n",
    "elif condition3:\n",
    "    task3 block of code\n",
    "    .\n",
    "    .\n",
    "    .\n",
    "elif condition n:\n",
    "    task n\n",
    "else:\n",
    "    task4 block of code"
   ]
  },
  {
   "cell_type": "code",
   "execution_count": null,
   "id": "f2c77fdf-c781-4d58-99b2-0b818eb1aa25",
   "metadata": {},
   "outputs": [],
   "source": [
    "x=9\n",
    "if x%2==0:\n",
    "    print(\"Even\")\n",
    "else:\n",
    "    print(\"odd\")"
   ]
  },
  {
   "cell_type": "code",
   "execution_count": 13,
   "id": "3df91e75-682a-4744-9299-a9020b5c2616",
   "metadata": {},
   "outputs": [
    {
     "data": {
      "text/plain": [
       "17"
      ]
     },
     "execution_count": 13,
     "metadata": {},
     "output_type": "execute_result"
    }
   ],
   "source": [
    "x+8"
   ]
  },
  {
   "cell_type": "code",
   "execution_count": 17,
   "id": "0114598a-bc12-4c04-9aa1-5d6bbaa8e403",
   "metadata": {},
   "outputs": [
    {
     "name": "stdout",
     "output_type": "stream",
     "text": [
      "neg\n"
     ]
    }
   ],
   "source": [
    "x=-5.8\n",
    "if x>0:\n",
    "    print('pos')\n",
    "elif x<0:\n",
    "    print('neg')\n",
    "else:\n",
    "    print('zero')"
   ]
  },
  {
   "cell_type": "code",
   "execution_count": 52,
   "id": "0e89c709-60af-4259-b188-dcccb36241f4",
   "metadata": {},
   "outputs": [
    {
     "ename": "IndentationError",
     "evalue": "unindent does not match any outer indentation level (<string>, line 6)",
     "output_type": "error",
     "traceback": [
      "\u001b[1;36m  File \u001b[1;32m<string>:6\u001b[1;36m\u001b[0m\n\u001b[1;33m    elif x>20:\u001b[0m\n\u001b[1;37m              ^\u001b[0m\n\u001b[1;31mIndentationError\u001b[0m\u001b[1;31m:\u001b[0m unindent does not match any outer indentation level\n"
     ]
    }
   ],
   "source": [
    "x=6\n",
    "if x>0:\n",
    "    print('pos')\n",
    "    if x>10:\n",
    "       print('m')\n",
    "   elif x>20:\n",
    "       print('p')\n",
    "   elif x<10:\n",
    "       print('K')\n",
    "   else:\n",
    "       print('T')\n",
    "elif x<0:\n",
    "    print(\"neg\")\n",
    "     if x<-20:\n",
    "        print('Q')\n",
    "    elif x>-10:\n",
    "        print('C')\n",
    "    elif x>-300:\n",
    "        print('Z')\n",
    "\n",
    " else:\n",
    "       print('Zero')\n",
    "    "
   ]
  },
  {
   "cell_type": "code",
   "execution_count": 46,
   "id": "f604b528-8259-4cad-902c-54c9846b55e2",
   "metadata": {},
   "outputs": [
    {
     "ename": "IndentationError",
     "evalue": "unindent does not match any outer indentation level (<string>, line 6)",
     "output_type": "error",
     "traceback": [
      "\u001b[1;36m  File \u001b[1;32m<string>:6\u001b[1;36m\u001b[0m\n\u001b[1;33m    elif x>20:\u001b[0m\n\u001b[1;37m              ^\u001b[0m\n\u001b[1;31mIndentationError\u001b[0m\u001b[1;31m:\u001b[0m unindent does not match any outer indentation level\n"
     ]
    }
   ],
   "source": []
  },
  {
   "cell_type": "code",
   "execution_count": 54,
   "id": "08fcb02d-9bca-4026-916e-cf98d208f54e",
   "metadata": {},
   "outputs": [
    {
     "name": "stdout",
     "output_type": "stream",
     "text": [
      "pos\n",
      "M\n"
     ]
    }
   ],
   "source": [
    "x=14\n",
    "if x>0:\n",
    "    print('pos')\n",
    "    if x>10:\n",
    "        print('M')\n",
    "    elif x>20:\n",
    "        print('P')\n",
    "    elif x<10:\n",
    "        print('K')\n",
    "    else: \n",
    "        print('T')\n",
    "elif x>0:\n",
    "    print(\"neg\")\n",
    "    if x<-20:\n",
    "        print(\"Q\")\n",
    "    elif x>-10:\n",
    "        print('C')\n",
    "    elif x>-30:\n",
    "        print('Z')\n",
    "else:\n",
    "    print('Zero')\n",
    "    \n",
    "    "
   ]
  },
  {
   "cell_type": "code",
   "execution_count": 1,
   "id": "ff3a114c-925d-4dce-a3a2-438607e08b3c",
   "metadata": {},
   "outputs": [
    {
     "name": "stdout",
     "output_type": "stream",
     "text": [
      "yes\n"
     ]
    }
   ],
   "source": [
    "x= 'Telangana'\n",
    "if x[0]=='t' or x[0]=='T':\n",
    "    print('yes')\n",
    "else:\n",
    "    print('no')"
   ]
  },
  {
   "cell_type": "code",
   "execution_count": 7,
   "id": "3e757b91-819f-42f6-a0e4-676b692142e4",
   "metadata": {},
   "outputs": [
    {
     "name": "stdout",
     "output_type": "stream",
     "text": [
      "pos\n"
     ]
    }
   ],
   "source": [
    "x=120\n",
    "if x>10:\n",
    "    print('pos')\n",
    "elif x<10:\n",
    "    print('neg')\n",
    "else:\n",
    "    print('no')\n",
    "    "
   ]
  },
  {
   "cell_type": "code",
   "execution_count": 9,
   "id": "f6654de4-1828-4a85-a053-2bce666150f7",
   "metadata": {},
   "outputs": [
    {
     "ename": "NameError",
     "evalue": "name 'o' is not defined",
     "output_type": "error",
     "traceback": [
      "\u001b[1;31m---------------------------------------------------------------------------\u001b[0m",
      "\u001b[1;31mNameError\u001b[0m                                 Traceback (most recent call last)",
      "Cell \u001b[1;32mIn[9], line 2\u001b[0m\n\u001b[0;32m      1\u001b[0m x\u001b[38;5;241m=\u001b[39m\u001b[38;5;124m'\u001b[39m\u001b[38;5;124mhas\u001b[39m\u001b[38;5;124m'\u001b[39m\n\u001b[1;32m----> 2\u001b[0m \u001b[38;5;28;01mif\u001b[39;00m x[\u001b[38;5;241m0\u001b[39m]\u001b[38;5;241m==\u001b[39m\u001b[38;5;124m'\u001b[39m\u001b[38;5;124ms\u001b[39m\u001b[38;5;124m'\u001b[39m \u001b[38;5;129;01mor\u001b[39;00m x[\u001b[38;5;241m0\u001b[39m]\u001b[38;5;241m==\u001b[39m\u001b[38;5;124m'\u001b[39m\u001b[38;5;124ms\u001b[39m\u001b[38;5;124m'\u001b[39m \u001b[38;5;129;01mor\u001b[39;00m x[\u001b[38;5;241m0\u001b[39m]\u001b[38;5;241m==\u001b[39m\u001b[38;5;124m'\u001b[39m\u001b[38;5;124mM\u001b[39m\u001b[38;5;124m'\u001b[39m \u001b[38;5;129;01mor\u001b[39;00m x\u001b[38;5;241m==\u001b[39m[o]\u001b[38;5;241m==\u001b[39m\u001b[38;5;124m'\u001b[39m\u001b[38;5;124mh\u001b[39m\u001b[38;5;124m'\u001b[39m \u001b[38;5;129;01mor\u001b[39;00m x[\u001b[38;5;241m0\u001b[39m]\u001b[38;5;241m==\u001b[39m\u001b[38;5;124m'\u001b[39m\u001b[38;5;124mh\u001b[39m\u001b[38;5;124m'\u001b[39m:\n\u001b[0;32m      3\u001b[0m     \u001b[38;5;28mprint\u001b[39m(\u001b[38;5;124m\"\u001b[39m\u001b[38;5;124myes\u001b[39m\u001b[38;5;124m\"\u001b[39m)\n\u001b[0;32m      4\u001b[0m \u001b[38;5;28;01melse\u001b[39;00m:\n",
      "\u001b[1;31mNameError\u001b[0m: name 'o' is not defined"
     ]
    }
   ],
   "source": [
    "x='has'\n",
    "if x[0]=='s' or x[0]=='s' or x[0]=='M' or x==[o]=='h' or x[0]=='h':\n",
    "    print(\"yes\")\n",
    "else:\n",
    "    print(\"no\")\n",
    "    "
   ]
  },
  {
   "cell_type": "code",
   "execution_count": null,
   "id": "7fb13e40-953b-49c1-af18-82b6c97649d6",
   "metadata": {},
   "outputs": [],
   "source": []
  }
 ],
 "metadata": {
  "kernelspec": {
   "display_name": "Python 3 (ipykernel)",
   "language": "python",
   "name": "python3"
  },
  "language_info": {
   "codemirror_mode": {
    "name": "ipython",
    "version": 3
   },
   "file_extension": ".py",
   "mimetype": "text/x-python",
   "name": "python",
   "nbconvert_exporter": "python",
   "pygments_lexer": "ipython3",
   "version": "3.12.4"
  }
 },
 "nbformat": 4,
 "nbformat_minor": 5
}
