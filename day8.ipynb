{
 "cells": [
  {
   "cell_type": "code",
   "execution_count": 1,
   "id": "fbe3394f-4337-4aa6-a87c-1dafbe13c4cc",
   "metadata": {},
   "outputs": [],
   "source": [
    "import numpy as np"
   ]
  },
  {
   "cell_type": "code",
   "execution_count": 5,
   "id": "35e9884a-6710-40a2-b6cb-4c470e320306",
   "metadata": {},
   "outputs": [
    {
     "data": {
      "text/plain": [
       "array([44, 40, 98, 75, 72, 53, 87, 96, 62, 85, 65, 97, 73, 90, 63, 40, 95,\n",
       "       90, 79, 71])"
      ]
     },
     "execution_count": 5,
     "metadata": {},
     "output_type": "execute_result"
    }
   ],
   "source": [
    "a=np.random.randint(30,99,20)\n",
    "a"
   ]
  },
  {
   "cell_type": "code",
   "execution_count": 7,
   "id": "d7e99e5b-3d67-4e89-a816-0fe3a4a708ea",
   "metadata": {},
   "outputs": [
    {
     "data": {
      "text/plain": [
       "71"
      ]
     },
     "execution_count": 7,
     "metadata": {},
     "output_type": "execute_result"
    }
   ],
   "source": [
    "a[-1]"
   ]
  },
  {
   "cell_type": "code",
   "execution_count": 9,
   "id": "ca33e5f9-b255-4429-b9ca-c99c75dfb741",
   "metadata": {},
   "outputs": [
    {
     "data": {
      "text/plain": [
       "85"
      ]
     },
     "execution_count": 9,
     "metadata": {},
     "output_type": "execute_result"
    }
   ],
   "source": [
    "a[9]"
   ]
  },
  {
   "cell_type": "code",
   "execution_count": 11,
   "id": "dc874959-3b97-4bbe-891f-e5dc7b37c323",
   "metadata": {},
   "outputs": [
    {
     "data": {
      "text/plain": [
       "array([[39, 71, 89, 49, 69, 94, 64, 96, 97],\n",
       "       [75, 64, 37, 55, 39, 42, 70, 96, 66],\n",
       "       [39, 87, 51, 53, 71, 98, 79, 92, 73],\n",
       "       [94, 85, 55, 46, 77, 33, 82, 38, 65],\n",
       "       [76, 81, 34, 97, 65, 62, 45, 57, 40],\n",
       "       [73, 72, 43, 83, 93, 51, 53, 56, 54],\n",
       "       [64, 72, 76, 36, 30, 83, 97, 39, 41],\n",
       "       [36, 78, 74, 69, 72, 87, 55, 95, 56]])"
      ]
     },
     "execution_count": 11,
     "metadata": {},
     "output_type": "execute_result"
    }
   ],
   "source": [
    "a=np.random.randint(30,99,(8,9))\n",
    "a"
   ]
  },
  {
   "cell_type": "code",
   "execution_count": 13,
   "id": "ad9d7cc4-1bd7-4679-8c87-7a2864ab1c12",
   "metadata": {},
   "outputs": [
    {
     "data": {
      "text/plain": [
       "array([[75, 64, 37, 55, 39, 42, 70, 96, 66],\n",
       "       [39, 87, 51, 53, 71, 98, 79, 92, 73],\n",
       "       [94, 85, 55, 46, 77, 33, 82, 38, 65],\n",
       "       [76, 81, 34, 97, 65, 62, 45, 57, 40]])"
      ]
     },
     "execution_count": 13,
     "metadata": {},
     "output_type": "execute_result"
    }
   ],
   "source": [
    "a[1:5]"
   ]
  },
  {
   "cell_type": "code",
   "execution_count": 15,
   "id": "74d4489f-aa9f-447f-804c-8f2047f2e3ae",
   "metadata": {},
   "outputs": [
    {
     "data": {
      "text/plain": [
       "36"
      ]
     },
     "execution_count": 15,
     "metadata": {},
     "output_type": "execute_result"
    }
   ],
   "source": [
    "a[7,0]"
   ]
  },
  {
   "cell_type": "code",
   "execution_count": null,
   "id": "93942e3f-c8a8-42c3-927e-09d35f1fec08",
   "metadata": {},
   "outputs": [],
   "source": [
    "import pandas as "
   ]
  }
 ],
 "metadata": {
  "kernelspec": {
   "display_name": "Python 3 (ipykernel)",
   "language": "python",
   "name": "python3"
  },
  "language_info": {
   "codemirror_mode": {
    "name": "ipython",
    "version": 3
   },
   "file_extension": ".py",
   "mimetype": "text/x-python",
   "name": "python",
   "nbconvert_exporter": "python",
   "pygments_lexer": "ipython3",
   "version": "3.12.4"
  }
 },
 "nbformat": 4,
 "nbformat_minor": 5
}
