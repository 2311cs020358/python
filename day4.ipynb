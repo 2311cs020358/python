{
 "cells": [
  {
   "cell_type": "code",
   "execution_count": 72,
   "id": "cef27a9f-c4e4-4a13-a3e7-08cd389532d0",
   "metadata": {},
   "outputs": [
    {
     "data": {
      "text/plain": [
       "{101: 4, 102: 7, 103: 4}"
      ]
     },
     "execution_count": 72,
     "metadata": {},
     "output_type": "execute_result"
    }
   ],
   "source": [
    "d={ 101: 4,102: 7, 103: 4}\n",
    "d"
   ]
  },
  {
   "cell_type": "code",
   "execution_count": 74,
   "id": "f45c178d-6ac4-44ab-a223-ad192f822e5c",
   "metadata": {},
   "outputs": [
    {
     "data": {
      "text/plain": [
       "[4, 7, 4]"
      ]
     },
     "execution_count": 74,
     "metadata": {},
     "output_type": "execute_result"
    }
   ],
   "source": [
    "L =[4,7,4]\n",
    "L"
   ]
  },
  {
   "cell_type": "code",
   "execution_count": 76,
   "id": "a734e8f1-214d-408c-8968-8561c82c2150",
   "metadata": {},
   "outputs": [
    {
     "data": {
      "text/plain": [
       "7"
      ]
     },
     "execution_count": 76,
     "metadata": {},
     "output_type": "execute_result"
    }
   ],
   "source": [
    "L[1]"
   ]
  },
  {
   "cell_type": "code",
   "execution_count": 31,
   "id": "8bf340d6-d10a-41b6-94a4-b199da770913",
   "metadata": {},
   "outputs": [],
   "source": [
    "d[101]=200"
   ]
  },
  {
   "cell_type": "code",
   "execution_count": 33,
   "id": "80711e70-11ce-4ead-9966-3d87c694e041",
   "metadata": {},
   "outputs": [
    {
     "data": {
      "text/plain": [
       "{101: 200, 102: 300, 'B': 2, 103: 4}"
      ]
     },
     "execution_count": 33,
     "metadata": {},
     "output_type": "execute_result"
    }
   ],
   "source": [
    "d"
   ]
  },
  {
   "cell_type": "code",
   "execution_count": 23,
   "id": "b17e4dd9-4f49-4ceb-b51f-93278d89dd89",
   "metadata": {},
   "outputs": [],
   "source": [
    "d.update({102:300})"
   ]
  },
  {
   "cell_type": "code",
   "execution_count": 80,
   "id": "39b4a047-5c7d-4acf-bbeb-033e62a3d37c",
   "metadata": {},
   "outputs": [
    {
     "data": {
      "text/plain": [
       "{101: 4, 102: 7, 103: 4}"
      ]
     },
     "execution_count": 80,
     "metadata": {},
     "output_type": "execute_result"
    }
   ],
   "source": [
    "d"
   ]
  },
  {
   "cell_type": "code",
   "execution_count": 78,
   "id": "00648fa7-1d69-4000-9056-dd2015d6b31f",
   "metadata": {},
   "outputs": [
    {
     "data": {
      "text/plain": [
       "dict_keys([101, 102, 103])"
      ]
     },
     "execution_count": 78,
     "metadata": {},
     "output_type": "execute_result"
    }
   ],
   "source": [
    "d.keys()"
   ]
  },
  {
   "cell_type": "code",
   "execution_count": 82,
   "id": "912cbf17-059d-4483-ac26-5833c7dbcb76",
   "metadata": {},
   "outputs": [
    {
     "data": {
      "text/plain": [
       "dict_values([4, 7, 4])"
      ]
     },
     "execution_count": 82,
     "metadata": {},
     "output_type": "execute_result"
    }
   ],
   "source": [
    "d.values()"
   ]
  },
  {
   "cell_type": "code",
   "execution_count": 84,
   "id": "cb605b47-8988-4b6b-9954-0ade85e18e95",
   "metadata": {},
   "outputs": [
    {
     "data": {
      "text/plain": [
       "dict_items([(101, 4), (102, 7), (103, 4)])"
      ]
     },
     "execution_count": 84,
     "metadata": {},
     "output_type": "execute_result"
    }
   ],
   "source": [
    "d.items()"
   ]
  },
  {
   "cell_type": "code",
   "execution_count": 55,
   "id": "03377824-3733-42e1-b532-cdb8227286c4",
   "metadata": {},
   "outputs": [
    {
     "ename": "SyntaxError",
     "evalue": "invalid syntax (632651911.py, line 1)",
     "output_type": "error",
     "traceback": [
      "\u001b[1;36m  Cell \u001b[1;32mIn[55], line 1\u001b[1;36m\u001b[0m\n\u001b[1;33m    d.upadate{(103: 'India')}\u001b[0m\n\u001b[1;37m             ^\u001b[0m\n\u001b[1;31mSyntaxError\u001b[0m\u001b[1;31m:\u001b[0m invalid syntax\n"
     ]
    }
   ],
   "source": [
    "d.upadate{(103: 'India')}"
   ]
  },
  {
   "cell_type": "code",
   "execution_count": null,
   "id": "68c2f493-51f4-4998-88dc-0525b17e4cb1",
   "metadata": {},
   "outputs": [],
   "source": [
    "d.update({103:'India'})"
   ]
  },
  {
   "cell_type": "code",
   "execution_count": 98,
   "id": "301dc16b-d600-4206-bc58-20c4dd3429dd",
   "metadata": {},
   "outputs": [
    {
     "data": {
      "text/plain": [
       "{101: 4, 102: 7, 103: 4}"
      ]
     },
     "execution_count": 98,
     "metadata": {},
     "output_type": "execute_result"
    }
   ],
   "source": [
    "d"
   ]
  },
  {
   "cell_type": "code",
   "execution_count": null,
   "id": "084abb77-ea31-4bb0-b0f8-fd9ee3d0b176",
   "metadata": {},
   "outputs": [],
   "source": [
    "d.update({103:'India'})"
   ]
  },
  {
   "cell_type": "code",
   "execution_count": 96,
   "id": "a86b821a-e9fe-4f18-8be4-d62600e682d9",
   "metadata": {},
   "outputs": [
    {
     "data": {
      "text/plain": [
       "{101: 4, 102: 7, 103: 4}"
      ]
     },
     "execution_count": 96,
     "metadata": {},
     "output_type": "execute_result"
    }
   ],
   "source": [
    "d"
   ]
  },
  {
   "cell_type": "code",
   "execution_count": 100,
   "id": "a319ec02-9939-48e1-a6e0-31ab44495117",
   "metadata": {},
   "outputs": [
    {
     "data": {
      "text/plain": [
       "{101: 200,\n",
       " 102: 60,\n",
       " 103: 'India',\n",
       " 106: 4000,\n",
       " 107: 'india',\n",
       " 104: [1000, 5000, 600, 7000]}"
      ]
     },
     "execution_count": 100,
     "metadata": {},
     "output_type": "execute_result"
    }
   ],
   "source": [
    "d={101: 200,102: 60,103: 'India',106: 4000,107: 'india',107: 'india',104: [1000,5000,600,7000]}\n",
    "d\n"
   ]
  },
  {
   "cell_type": "code",
   "execution_count": 102,
   "id": "f392ad3b-8655-4746-9e28-71a778b15ab6",
   "metadata": {},
   "outputs": [
    {
     "data": {
      "text/plain": [
       "list"
      ]
     },
     "execution_count": 102,
     "metadata": {},
     "output_type": "execute_result"
    }
   ],
   "source": [
    "type(d[104])"
   ]
  },
  {
   "cell_type": "code",
   "execution_count": 104,
   "id": "e87c4e78-2a34-4c58-be40-30c523b93424",
   "metadata": {},
   "outputs": [
    {
     "data": {
      "text/plain": [
       "1"
      ]
     },
     "execution_count": 104,
     "metadata": {},
     "output_type": "execute_result"
    }
   ],
   "source": [
    "d[104].count(5000)"
   ]
  },
  {
   "cell_type": "code",
   "execution_count": 106,
   "id": "9dd57c31-4ce9-46f2-8b2c-e1b6a78aa7e3",
   "metadata": {},
   "outputs": [
    {
     "data": {
      "text/plain": [
       "[1000, 5000, 600, 7000]"
      ]
     },
     "execution_count": 106,
     "metadata": {},
     "output_type": "execute_result"
    }
   ],
   "source": [
    "d[104]"
   ]
  },
  {
   "cell_type": "code",
   "execution_count": 108,
   "id": "53e20cf0-070a-492d-a741-bbd0980dfff3",
   "metadata": {},
   "outputs": [
    {
     "data": {
      "text/plain": [
       "{101: 200,\n",
       " 102: 60,\n",
       " 103: 'India',\n",
       " 106: 4000,\n",
       " 107: 'india',\n",
       " 104: [1000, 5000, 5500, 600, 7000]}"
      ]
     },
     "execution_count": 108,
     "metadata": {},
     "output_type": "execute_result"
    }
   ],
   "source": [
    "d[104].insert(2,5500)\n",
    "d"
   ]
  },
  {
   "cell_type": "code",
   "execution_count": 110,
   "id": "c26e498c-f713-45b2-96a6-78c03b830ca3",
   "metadata": {},
   "outputs": [
    {
     "data": {
      "text/plain": [
       "'India'"
      ]
     },
     "execution_count": 110,
     "metadata": {},
     "output_type": "execute_result"
    }
   ],
   "source": [
    "d[103]"
   ]
  },
  {
   "cell_type": "code",
   "execution_count": 112,
   "id": "57524aa1-7974-4cc6-8ff5-e541a520911f",
   "metadata": {},
   "outputs": [
    {
     "data": {
      "text/plain": [
       "{101: 200,\n",
       " 102: 60,\n",
       " 103: 'india',\n",
       " 106: 4000,\n",
       " 107: 'india',\n",
       " 104: [1000, 5000, 5500, 600, 7000]}"
      ]
     },
     "execution_count": 112,
     "metadata": {},
     "output_type": "execute_result"
    }
   ],
   "source": [
    "d[103]=d[103].lower()\n",
    "d"
   ]
  },
  {
   "cell_type": "code",
   "execution_count": 114,
   "id": "8a4632c8-9428-4d5b-aca7-cedcd3697947",
   "metadata": {},
   "outputs": [
    {
     "ename": "TypeError",
     "evalue": "'int' object is not subscriptable",
     "output_type": "error",
     "traceback": [
      "\u001b[1;31m---------------------------------------------------------------------------\u001b[0m",
      "\u001b[1;31mTypeError\u001b[0m                                 Traceback (most recent call last)",
      "Cell \u001b[1;32mIn[114], line 1\u001b[0m\n\u001b[1;32m----> 1\u001b[0m d[\u001b[38;5;241m101\u001b[39m][\u001b[38;5;124m'\u001b[39m\u001b[38;5;124mapple\u001b[39m\u001b[38;5;124m'\u001b[39m][\u001b[38;5;241m3\u001b[39m][\u001b[38;5;241m1\u001b[39m]\n",
      "\u001b[1;31mTypeError\u001b[0m: 'int' object is not subscriptable"
     ]
    }
   ],
   "source": [
    "d[101]['apple'][3][1]"
   ]
  },
  {
   "cell_type": "code",
   "execution_count": null,
   "id": "8b753fb2-4ea5-4549-bce0-b6e268488cd4",
   "metadata": {},
   "outputs": [],
   "source": []
  }
 ],
 "metadata": {
  "kernelspec": {
   "display_name": "Python 3 (ipykernel)",
   "language": "python",
   "name": "python3"
  },
  "language_info": {
   "codemirror_mode": {
    "name": "ipython",
    "version": 3
   },
   "file_extension": ".py",
   "mimetype": "text/x-python",
   "name": "python",
   "nbconvert_exporter": "python",
   "pygments_lexer": "ipython3",
   "version": "3.12.4"
  }
 },
 "nbformat": 4,
 "nbformat_minor": 5
}
