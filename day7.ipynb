{
 "cells": [
  {
   "cell_type": "code",
   "execution_count": null,
   "id": "3ab5def9-9d63-484f-b8d3-99647a1ff4bf",
   "metadata": {},
   "outputs": [],
   "source": [
    "def"
   ]
  },
  {
   "cell_type": "code",
   "execution_count": 5,
   "id": "20a8e117-8194-45ab-b93e-52af49ca2e37",
   "metadata": {},
   "outputs": [
    {
     "data": {
      "text/plain": [
       "<function len(obj, /)>"
      ]
     },
     "execution_count": 5,
     "metadata": {},
     "output_type": "execute_result"
    }
   ],
   "source": [
    "len"
   ]
  },
  {
   "cell_type": "code",
   "execution_count": 9,
   "id": "fdbc7742-3195-4212-8c05-8c7cc9b65684",
   "metadata": {},
   "outputs": [
    {
     "data": {
      "text/plain": [
       "'mallareddy university'"
      ]
     },
     "execution_count": 9,
     "metadata": {},
     "output_type": "execute_result"
    }
   ],
   "source": [
    "y=\"mallareddy university\"\n",
    "y"
   ]
  },
  {
   "cell_type": "code",
   "execution_count": 11,
   "id": "4c0c569f-dfee-451f-becb-3a2bae0ea31e",
   "metadata": {},
   "outputs": [
    {
     "data": {
      "text/plain": [
       "21"
      ]
     },
     "execution_count": 11,
     "metadata": {},
     "output_type": "execute_result"
    }
   ],
   "source": [
    "len(y)"
   ]
  },
  {
   "cell_type": "code",
   "execution_count": null,
   "id": "8e809a8e-20d1-4d1f-86ee-6eb36ae970b2",
   "metadata": {},
   "outputs": [],
   "source": [
    "def functionname(parameter):\n",
    "    block of code\n",
    "    return output"
   ]
  },
  {
   "cell_type": "code",
   "execution_count": 26,
   "id": "f0054452-fe33-4183-bd4d-326fdf8d3b8c",
   "metadata": {},
   "outputs": [],
   "source": [
    "def calArea(r):\n",
    "    a=3.14*r*r\n",
    "    return (a)"
   ]
  },
  {
   "cell_type": "code",
   "execution_count": 32,
   "id": "b10a8459-bc21-41cb-90a4-b20f232a0e8b",
   "metadata": {},
   "outputs": [],
   "source": [
    "def aor(l,w):\n",
    "    area=l*w\n",
    "    return area"
   ]
  },
  {
   "cell_type": "code",
   "execution_count": 34,
   "id": "96f09ad6-5cfe-47dc-b1da-fb13f4cfab5e",
   "metadata": {},
   "outputs": [
    {
     "data": {
      "text/plain": [
       "50"
      ]
     },
     "execution_count": 34,
     "metadata": {},
     "output_type": "execute_result"
    }
   ],
   "source": [
    "aor(w=5,l=10)"
   ]
  },
  {
   "cell_type": "code",
   "execution_count": 36,
   "id": "32096e0d-3f35-4f2a-b1a7-80ed146aaff9",
   "metadata": {},
   "outputs": [
    {
     "data": {
      "text/plain": [
       "50"
      ]
     },
     "execution_count": 36,
     "metadata": {},
     "output_type": "execute_result"
    }
   ],
   "source": [
    "aor(l=10,w=5)"
   ]
  },
  {
   "cell_type": "code",
   "execution_count": 25,
   "id": "9253f55f-09c0-4082-b7f4-67a213dbabd9",
   "metadata": {},
   "outputs": [],
   "source": [
    "def area(rad,length,width):\n",
    "    aoc=3.14*rad*rad\n",
    "    aor=length*width\n",
    "    return aoc,aor\n",
    "    return print(f\"The Area of circle is {aoc} \\nArea of Rectangle is {aor}\")"
   ]
  },
  {
   "cell_type": "code",
   "execution_count": 27,
   "id": "9c749895-41bb-4c78-81a0-92a1e2426b91",
   "metadata": {},
   "outputs": [
    {
     "data": {
      "text/plain": [
       "(314.0, 100)"
      ]
     },
     "execution_count": 27,
     "metadata": {},
     "output_type": "execute_result"
    }
   ],
   "source": [
    "area(rad=10,length=20,width=5)"
   ]
  },
  {
   "cell_type": "code",
   "execution_count": 31,
   "id": "f5acdce4-9319-4122-aceb-54347f5f24c1",
   "metadata": {},
   "outputs": [
    {
     "data": {
      "text/plain": [
       "'Hyderabad 500008 Telangana'"
      ]
     },
     "execution_count": 31,
     "metadata": {},
     "output_type": "execute_result"
    }
   ],
   "source": [
    "t='Hyderabad 500008 Telangana'\n",
    "t"
   ]
  },
  {
   "cell_type": "code",
   "execution_count": 39,
   "id": "45688b03-5c47-4e30-a251-4d342431c2ea",
   "metadata": {},
   "outputs": [],
   "source": [
    "def countA(x):\n",
    "    d=x.lower()\n",
    "    return d.count('a')"
   ]
  },
  {
   "cell_type": "code",
   "execution_count": 41,
   "id": "57f5f699-87e9-4780-9bd6-9fc51fee2681",
   "metadata": {},
   "outputs": [
    {
     "data": {
      "text/plain": [
       "5"
      ]
     },
     "execution_count": 41,
     "metadata": {},
     "output_type": "execute_result"
    }
   ],
   "source": [
    "countA(t)"
   ]
  },
  {
   "cell_type": "code",
   "execution_count": null,
   "id": "ef833a55-5652-4da4-837b-0aab547e2a97",
   "metadata": {},
   "outputs": [],
   "source": [
    "def count_no(t)\n",
    "    alphabets = 0\n",
    "    numbers = 0\n",
    "    for i in t:\n",
    "        if (i.isalnum())\n",
    "        alpabets = alphabets"
   ]
  }
 ],
 "metadata": {
  "kernelspec": {
   "display_name": "Python 3 (ipykernel)",
   "language": "python",
   "name": "python3"
  },
  "language_info": {
   "codemirror_mode": {
    "name": "ipython",
    "version": 3
   },
   "file_extension": ".py",
   "mimetype": "text/x-python",
   "name": "python",
   "nbconvert_exporter": "python",
   "pygments_lexer": "ipython3",
   "version": "3.12.4"
  }
 },
 "nbformat": 4,
 "nbformat_minor": 5
}
